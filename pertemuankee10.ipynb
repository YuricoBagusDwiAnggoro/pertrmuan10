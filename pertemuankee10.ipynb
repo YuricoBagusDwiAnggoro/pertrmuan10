{
  "nbformat": 4,
  "nbformat_minor": 0,
  "metadata": {
    "colab": {
      "provenance": [],
      "include_colab_link": true
    },
    "kernelspec": {
      "name": "python3",
      "display_name": "Python 3"
    },
    "language_info": {
      "name": "python"
    }
  },
  "cells": [
    {
      "cell_type": "markdown",
      "metadata": {
        "id": "view-in-github",
        "colab_type": "text"
      },
      "source": [
        "<a href=\"https://colab.research.google.com/github/YuricoBagusDwiAnggoro/pertrmuan10/blob/main/pertemuankee10.ipynb\" target=\"_parent\"><img src=\"https://colab.research.google.com/assets/colab-badge.svg\" alt=\"Open In Colab\"/></a>"
      ]
    },
    {
      "cell_type": "code",
      "execution_count": 11,
      "metadata": {
        "colab": {
          "base_uri": "https://localhost:8080/"
        },
        "id": "dyRsD5Kcl_aB",
        "outputId": "5fb23510-1410-4ffe-e306-e85a422b1555"
      },
      "outputs": [
        {
          "output_type": "stream",
          "name": "stdout",
          "text": [
            "Requirement already satisfied: pulp in /usr/local/lib/python3.10/dist-packages (2.7.0)\n"
          ]
        }
      ],
      "source": [
        "pip install pulp\n"
      ]
    },
    {
      "cell_type": "code",
      "source": [
        "import pulp\n"
      ],
      "metadata": {
        "id": "6dnlDGYDtrUG"
      },
      "execution_count": 12,
      "outputs": []
    },
    {
      "cell_type": "code",
      "source": [
        "model = pulp.LpProblem(\"ProfitMaximisingProblem\", pulp.LpMaximize)"
      ],
      "metadata": {
        "id": "K9SkTMbqtuHM"
      },
      "execution_count": 13,
      "outputs": []
    },
    {
      "cell_type": "code",
      "source": [
        "A = pulp.LpVariable('A', lowBound=0, cat='Integer')\n",
        "B = pulp.LpVariable('B', lowBound=0, cat='Integer')"
      ],
      "metadata": {
        "id": "WUoOAs3Lt3vU"
      },
      "execution_count": 14,
      "outputs": []
    },
    {
      "cell_type": "code",
      "source": [
        "# Objective function\n",
        "model += 4200 * A + 2800 * B, \"Profit\"\n",
        "# Constraints\n",
        "model += 3 * A + 2 * B <= 20\n",
        "model += 4 * A + 3 * B <= 30\n",
        "model += 4 * A + 3 * B <= 40"
      ],
      "metadata": {
        "id": "V17Le8QeuKol"
      },
      "execution_count": 15,
      "outputs": []
    },
    {
      "cell_type": "code",
      "source": [
        "model.solve()\n",
        "pulp.LpStatus[model.status]"
      ],
      "metadata": {
        "colab": {
          "base_uri": "https://localhost:8080/",
          "height": 35
        },
        "id": "tV-nhK9exAxq",
        "outputId": "45db0f51-b1a3-42a0-db1d-9d02b1385e94"
      },
      "execution_count": 16,
      "outputs": [
        {
          "output_type": "execute_result",
          "data": {
            "text/plain": [
              "'Optimal'"
            ],
            "application/vnd.google.colaboratory.intrinsic+json": {
              "type": "string"
            }
          },
          "metadata": {},
          "execution_count": 16
        }
      ]
    },
    {
      "cell_type": "code",
      "source": [
        "print (A.varValue)\n",
        "print (B.varValue)"
      ],
      "metadata": {
        "colab": {
          "base_uri": "https://localhost:8080/"
        },
        "id": "5Kt0pgPLuokS",
        "outputId": "3dd3ec39-37a9-45c9-872e-2c0d3d94ae13"
      },
      "execution_count": 17,
      "outputs": [
        {
          "output_type": "stream",
          "name": "stdout",
          "text": [
            "6.0\n",
            "1.0\n"
          ]
        }
      ]
    },
    {
      "cell_type": "code",
      "source": [
        "print (pulp.value(model.objective))"
      ],
      "metadata": {
        "colab": {
          "base_uri": "https://localhost:8080/"
        },
        "id": "L2smcT4BwApR",
        "outputId": "0a5e3b2b-909e-49f6-9e56-d546c167a9a0"
      },
      "execution_count": 18,
      "outputs": [
        {
          "output_type": "stream",
          "name": "stdout",
          "text": [
            "28000.0\n"
          ]
        }
      ]
    },
    {
      "cell_type": "code",
      "source": [
        "#Latihan 1\n",
        "# 4x + 3y = 34\n",
        "import pulp\n",
        "\n",
        "# Membuat objek masalah optimasi\n",
        "model = pulp.LpProblem(name=\"Pemecahan_Persamaan\", sense=pulp.LpMinimize)\n",
        "\n",
        "# Membuat variabel x dan y\n",
        "x = pulp.LpVariable(name=\"x\")\n",
        "y = pulp.LpVariable(name=\"y\")\n",
        "\n",
        "# Menambahkan batasan\n",
        "model += 4 * x + 3 * y == 34\n",
        "\n",
        "# Menyelesaikan masalah\n",
        "model.solve()\n",
        "\n",
        "# Menampilkan hasil\n",
        "print(\"Status:\", model.status)\n",
        "print(\"Nilai x =\", x.varValue)\n",
        "print(\"Nilai y =\", y.varValue)"
      ],
      "metadata": {
        "colab": {
          "base_uri": "https://localhost:8080/"
        },
        "id": "9Gx7U36RyaxG",
        "outputId": "f83426f5-188a-4fa7-85ae-2fdad302a8a9"
      },
      "execution_count": 19,
      "outputs": [
        {
          "output_type": "stream",
          "name": "stdout",
          "text": [
            "Status: 1\n",
            "Nilai x = 8.5\n",
            "Nilai y = 0.0\n"
          ]
        }
      ]
    },
    {
      "cell_type": "code",
      "source": [
        "# Latihan 2\n",
        "# 5x + y = 37\n",
        "import pulp\n",
        "\n",
        " # Membuat objek masalah optimasi\n",
        "model = pulp.LpProblem(name=\"Pemecahan_Persamaan\", sense=pulp.LpMinimize)\n",
        "\n",
        " #Membuat variable x dan y\n",
        "x = pulp.LpVariable(name=\"x\")\n",
        "y = pulp.LpVariable(name=\"y\")\n",
        "\n",
        " # Menambahkan Batasan\n",
        "model += 5 * x + 1 * y == 37\n",
        "\n",
        " # Menyelesaikan Masalah\n",
        "model.solve()\n",
        "\n",
        " # Menampilkan Hasil\n",
        "print(\"Status:\", model.status)\n",
        "print(\"Nilai x =\", x.varValue)\n",
        "print(\"Nilai y =\", y.varValue)"
      ],
      "metadata": {
        "id": "Xo-rtjQCzYok",
        "colab": {
          "base_uri": "https://localhost:8080/"
        },
        "outputId": "0307a3b4-9ad4-4b79-f9aa-7a16588aa339"
      },
      "execution_count": 20,
      "outputs": [
        {
          "output_type": "stream",
          "name": "stdout",
          "text": [
            "Status: 1\n",
            "Nilai x = 7.4\n",
            "Nilai y = 0.0\n"
          ]
        }
      ]
    },
    {
      "cell_type": "code",
      "source": [
        "# Latihan Soal Cerita 1\n",
        "model = pulp.LpProblem(\"ProfitMaximisingProblem\", pulp.LpMaximize)\n",
        "X = pulp.LpVariable('X', lowBound=0, cat='Integer')\n",
        "Y = pulp.LpVariable('Y', lowBound=0, cat='Integer')\n",
        "\n",
        "model += 3 * X + 4 * Y == 11000\n",
        "model += 1 * X + 7 * Y == 15000\n",
        "model += 2 * X + 6 * Y, 'Hasil'\n",
        "\n",
        "model.solve()\n",
        "pulp.LpStatus[model.status]\n",
        "\n",
        "print (X.varValue)\n",
        "print (Y.varValue)\n",
        "print (pulp.value(model.objective))\n",
        ""
      ],
      "metadata": {
        "colab": {
          "base_uri": "https://localhost:8080/"
        },
        "id": "mNN4zf3PP77G",
        "outputId": "d91ac985-9572-46c9-8477-a110808b2f08"
      },
      "execution_count": 21,
      "outputs": [
        {
          "output_type": "stream",
          "name": "stdout",
          "text": [
            "1000.0\n",
            "2000.0\n",
            "14000.0\n"
          ]
        }
      ]
    },
    {
      "cell_type": "code",
      "source": [
        "# Latihan Soal cerita 2\n",
        "model = pulp.LpProblem(\"KelilingPersegiPanjang\", pulp.LpMaximize)\n",
        "X = pulp.LpVariable('X', lowBound=0, cat='Integer')\n",
        "Y = pulp.LpVariable('Y', lowBound=0, cat='Integer')\n",
        "\n",
        "model += 2 * X + 2 * Y, 'Keliling'\n",
        "\n",
        "model += 2 * X + 2 * Y == 44\n",
        "model += 2 * X + 2 * (X - 6) == 44\n",
        "\n",
        "model.solve()\n",
        "pulp.LpStatus[model.status]\n",
        "\n",
        "print (X.varValue)\n",
        "print (Y.varValue)\n",
        "print (pulp.value(model.objective))"
      ],
      "metadata": {
        "colab": {
          "base_uri": "https://localhost:8080/"
        },
        "id": "LWk-oSArP-Br",
        "outputId": "db16f252-8076-437b-c8ac-689ac86adb55"
      },
      "execution_count": 22,
      "outputs": [
        {
          "output_type": "stream",
          "name": "stdout",
          "text": [
            "14.0\n",
            "8.0\n",
            "44.0\n"
          ]
        }
      ]
    },
    {
      "cell_type": "code",
      "source": [
        "# Import required libraries\n",
        "import numpy as np\n",
        "from scipy.optimize import linprog"
      ],
      "metadata": {
        "id": "KT2CIKY7P_1M"
      },
      "execution_count": 23,
      "outputs": []
    },
    {
      "cell_type": "code",
      "source": [
        "# Set the inequality constraints matrix\n",
        "# Note: the inequality constraints must be in the form of <=\n",
        "A = np.array([[1, 0], [2, 3], [1, 1], [-1, 0], [0, -1]])"
      ],
      "metadata": {
        "id": "pVgTFlrkQBpz"
      },
      "execution_count": 24,
      "outputs": []
    },
    {
      "cell_type": "code",
      "source": [
        "\n",
        "# Set the inequality constraints vector\n",
        "b = np.array([16, 19, 8, 0, 0])\n",
        ""
      ],
      "metadata": {
        "id": "9cOu9RDJQTdF"
      },
      "execution_count": 25,
      "outputs": []
    },
    {
      "cell_type": "code",
      "source": [
        "# Set the coefficients of the linear objective function vector\n",
        "# Note: when maximizing, change the signs of the c vector coefficient\n",
        "c = np.array([-5, -7])"
      ],
      "metadata": {
        "id": "xLhUKbA6QTs7"
      },
      "execution_count": 26,
      "outputs": []
    },
    {
      "cell_type": "code",
      "source": [
        "# Solve linear programming problem\n",
        "res = linprog(c, A_ub=A, b_ub=b)"
      ],
      "metadata": {
        "id": "9RuwsLQEQT7l"
      },
      "execution_count": 27,
      "outputs": []
    },
    {
      "cell_type": "code",
      "source": [
        "# Print results\n",
        "print('Optimal value:', round(res.fun*-1, ndigits=2),\n",
        "      '\\nx values:', res.x,\n",
        "      '\\nNumber of iterations performed:', res.nit,\n",
        "      '\\nStatus:', res.message)"
      ],
      "metadata": {
        "colab": {
          "base_uri": "https://localhost:8080/"
        },
        "id": "IglngxwoQUHw",
        "outputId": "1a64b624-846a-4eaf-a81f-93ab58d48fbe"
      },
      "execution_count": 28,
      "outputs": [
        {
          "output_type": "stream",
          "name": "stdout",
          "text": [
            "Optimal value: 46.0 \n",
            "x values: [5. 3.] \n",
            "Number of iterations performed: 3 \n",
            "Status: Optimization terminated successfully. (HiGHS Status 7: Optimal)\n"
          ]
        }
      ]
    },
    {
      "cell_type": "code",
      "source": [
        "# 1.Impor modul yang diperlukan dari Scipy:\n",
        "\n",
        "from scipy.optimize import linprog\n",
        "\n",
        "# 2. Tentukan koefisien fungsi tujuan dan matriks batasan:\n",
        "\n",
        "# Koefisien fungsi tujuan (Z = 5x1 + 7x2)\n",
        "c = [-5, -7] # Karena kita ingin \"maksimalkan\" -5x1 - 7x2, maka perlu diubah menjadi \"-5\" dan \"-7\".\n",
        "\n",
        "# Koefisien matriks batasan\n",
        "A = [\n",
        "    [1, 0], # 1x1 + 0x2 <= 16\n",
        "    [2, 3], # 2x1 + 3x2 <= 19\n",
        "    [1, 1], # 1x1 + 1x2 <= 8\n",
        "]\n",
        "\n",
        "# Batasan kanan (rhs) dari masing-masing batasan\n",
        "b = [16, 19, 8]\n",
        "\n",
        "# 3. Tentukan batasan variabel x1 dan x2 sebagai variabel non-negatif:\n",
        "\n",
        "x1_bounds = (0, None) # x1 >= 0\n",
        "x2_bounds = (0, None) # x2 >= 0"
      ],
      "metadata": {
        "id": "GO3xjdyxQUR8"
      },
      "execution_count": 29,
      "outputs": []
    },
    {
      "cell_type": "code",
      "source": [
        "# 4. Gunakan linprog untuk menyelesaikan masalah pemrograman linier:\n",
        "\n",
        "result = linprog(c, A_ub=A, b_ub=b, bounds=[x1_bounds, x2_bounds], method=\"highs\")\n",
        "\n",
        "# 5. Tampilkan hasilnya:\n",
        "\n",
        "# Hasil optimasi\n",
        "print(\"Optimasi Solution:\")\n",
        "print(\"x1 =\", result.x[0])\n",
        "print(\"x2 =\", result.x[1])\n",
        "print(\"Max Z =\", -result.fun) # Karena tujuannya adalah memaksimalkan -z"
      ],
      "metadata": {
        "id": "UFAiQgoNQbF-"
      },
      "execution_count": null,
      "outputs": []
    },
    {
      "cell_type": "code",
      "source": [
        "# Latihan 1\n",
        "\n",
        "# 1. Impor modul yang diperlukan dari SciPy\n",
        "from scipy.optimize import linprog\n",
        "\n",
        "# 2. Tentukan koefisien fungsi tujuan dan matriks batasan\n",
        "\n",
        "c = [-4, -12]\n",
        "\n",
        "# Koefisien matriks batasan\n",
        "A = [\n",
        "    [4, 12] # 4x + 12y <= 28\n",
        "]\n",
        "\n",
        "# Batasan kanan (rhs) dari masing-masing batasan\n",
        "b = [28]\n",
        "\n",
        "# 3. tentukan batasan variabel x1 dan x2 sebagai variabel non-negatif\n",
        "x1_bounds = (0, None) # x >= 0\n",
        "x2_bounds = (0, None) # y >= 0\n",
        "\n",
        "# 4. Gunakan linprog untuk menyelesaikan masalah pemrograman linier\n",
        "result = linprog(c, A_ub=A, b_ub=b, bounds=[x1_bounds, x2_bounds], method=\"highs\")\n",
        "\n",
        "# 5. Tampilkan hasilnya\n",
        "# Hasil optimasi\n",
        "print(\"Optimal Solution:\")\n",
        "print(\"x =\", result.x[0])\n",
        "print(\"y =\", result.x[1])\n",
        "print(\"Max Z =\", -result.fun) # Karena tujuannya adalah memaksimalkan -Z"
      ],
      "metadata": {
        "colab": {
          "base_uri": "https://localhost:8080/"
        },
        "id": "YCU-Ejp0Qdb_",
        "outputId": "6c90ae2b-6a01-452c-f2b6-f43e6347cb23"
      },
      "execution_count": 32,
      "outputs": [
        {
          "output_type": "stream",
          "name": "stdout",
          "text": [
            "Optimal Solution:\n",
            "x = 7.0\n",
            "y = 0.0\n",
            "Max Z = 28.0\n"
          ]
        }
      ]
    },
    {
      "cell_type": "code",
      "source": [
        "# Latihan 2\n",
        "\n",
        "# 1. Impor modul yang diperlukan dari SciPy\n",
        "from scipy.optimize import linprog\n",
        "\n",
        "# 2. Tentukan koefisien fungsi tujuan dan matriks batasan\n",
        "\n",
        "c = [-2, -1]\n",
        "\n",
        "# Koefisien matriks batasan\n",
        "A = [\n",
        "    [2, 1] # 2x + y <= 21\n",
        "]\n",
        "\n",
        "# Batasan kanan (rhs) dari masing-masing batasan\n",
        "b = [21]\n",
        "\n",
        "# 3. tentukan batasan variabel x1 dan x2 sebagai variabel non-negatif\n",
        "x1_bounds = (0, None) # x >= 0\n",
        "x2_bounds = (0, None) # y >= 0\n",
        "\n",
        "# 4. Gunakan linprog untuk menyelesaikan masalah pemrograman linier\n",
        "result = linprog(c, A_ub=A, b_ub=b, bounds=[x1_bounds, x2_bounds], method=\"highs\")\n",
        "\n",
        "# 5. Tampilkan hasilnya\n",
        "# Hasil optimasi\n",
        "print(\"Optimal Solution:\")\n",
        "print(\"x =\", result.x[0])\n",
        "print(\"y =\", result.x[1])\n",
        "print(\"Max Z =\", -result.fun) # Karena tujuannya adalah memaksimalkan -Z"
      ],
      "metadata": {
        "colab": {
          "base_uri": "https://localhost:8080/"
        },
        "id": "mBgFzXPwQdyV",
        "outputId": "a33b7d2a-d89d-4f50-e266-6df3931979fe"
      },
      "execution_count": 31,
      "outputs": [
        {
          "output_type": "stream",
          "name": "stdout",
          "text": [
            "Optimal Solution:\n",
            "x = 10.5\n",
            "y = 0.0\n",
            "Max Z = 21.0\n"
          ]
        }
      ]
    },
    {
      "cell_type": "code",
      "source": [
        "# Latihan 3\n",
        "\n",
        "# 1. Impor modul yang diperlukan dari SciPy\n",
        "from scipy.optimize import linprog\n",
        "\n",
        "# 2. Tentukan koefisien fungsi tujuan dan matriks batasan\n",
        "\n",
        "c = [0, 0]\n",
        "\n",
        "# Koefisien matriks batasan\n",
        "A = [\n",
        "    [1, 1], # x + y = 16\n",
        "    [3, 4]  # 3x + 4y = 55\n",
        "]\n",
        "\n",
        "# Batasan kanan (rhs) dari masing-masing batasan\n",
        "b = [16, 55]\n",
        "\n",
        "# 3. tentukan batasan variabel x1 dan x2 sebagai variabel non-negatif\n",
        "x1_bounds = (0, None) # x >= 0\n",
        "x2_bounds = (0, None) # y >= 0\n",
        "\n",
        "# 4. Gunakan linprog untuk menyelesaikan masalah pemrograman linier\n",
        "result = linprog(c, A_eq=A, b_eq=b, bounds=[x1_bounds, x2_bounds], method=\"highs\")\n",
        "\n",
        "# 5. Tampilkan hasilnya\n",
        "# Hasil optimasi\n",
        "print(\"Optimal Solution:\")\n",
        "print(\"x =\", result.x[0])\n",
        "print(\"y =\", result.x[1])"
      ],
      "metadata": {
        "colab": {
          "base_uri": "https://localhost:8080/"
        },
        "id": "fK4C5-SdQd-O",
        "outputId": "2348dd0f-64ad-4cd0-c3c2-bbb71075309d"
      },
      "execution_count": 30,
      "outputs": [
        {
          "output_type": "stream",
          "name": "stdout",
          "text": [
            "Optimal Solution:\n",
            "x = 9.0\n",
            "y = 7.0\n"
          ]
        }
      ]
    }
  ]
}